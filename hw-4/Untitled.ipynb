{
 "cells": [
  {
   "cell_type": "code",
   "execution_count": 2,
   "metadata": {},
   "outputs": [],
   "source": [
    "import itertools"
   ]
  },
  {
   "cell_type": "code",
   "execution_count": 52,
   "metadata": {},
   "outputs": [
    {
     "name": "stdout",
     "output_type": "stream",
     "text": [
      "('WA', 'NT')\n",
      "('WA', 'Q')\n",
      "('WA', 'NSW')\n",
      "('NT', 'WA')\n",
      "('NT', 'Q')\n",
      "('NT', 'NSW')\n",
      "('Q', 'WA')\n",
      "('Q', 'NT')\n",
      "('Q', 'NSW')\n",
      "('NSW', 'WA')\n",
      "('NSW', 'NT')\n",
      "('NSW', 'Q')\n"
     ]
    }
   ],
   "source": [
    "for i in itertools.permutations(('WA', 'NT', 'Q', 'NSW'), r=2):\n",
    "    print(i)"
   ]
  },
  {
   "cell_type": "code",
   "execution_count": 26,
   "metadata": {},
   "outputs": [
    {
     "name": "stdout",
     "output_type": "stream",
     "text": [
      "('r', 'r')\n",
      "('r', 'g')\n",
      "('r', 'b')\n",
      "('g', 'r')\n",
      "('g', 'g')\n",
      "('g', 'b')\n",
      "('b', 'r')\n",
      "('b', 'g')\n",
      "('b', 'b')\n"
     ]
    }
   ],
   "source": [
    "f = ('r', 'g', 'b')\n",
    "g = ('r', 'g', 'b')\n",
    "for i in itertools.product(f,g):\n",
    "    print(i)"
   ]
  },
  {
   "cell_type": "code",
   "execution_count": 25,
   "metadata": {},
   "outputs": [],
   "source": [
    "variables = ('WA', 'NT', 'Q', 'NSW', 'V', 'SA', 'T')\n",
    "domains = {var: {'r', 'g', 'b'} for var in variables}\n",
    "neighbors = {'WA':['NT', 'SA'], \n",
    "             'SA':['WA', 'NT', 'Q', 'NSW', 'V'], \n",
    "             'NT':['WA', 'SA', 'Q',],\n",
    "             'Q': ['NT', 'SA', 'NSW'],\n",
    "             'NSW':['Q', 'SA', 'V'], \n",
    "             'V': ['NSW', 'SA'],\n",
    "             'T': []}"
   ]
  },
  {
   "cell_type": "code",
   "execution_count": 34,
   "metadata": {},
   "outputs": [
    {
     "name": "stdout",
     "output_type": "stream",
     "text": [
      "('WA', 'NT')\n",
      "('WA', 'SA')\n",
      "('SA', 'WA')\n",
      "('SA', 'NT')\n",
      "('SA', 'Q')\n",
      "('SA', 'NSW')\n",
      "('SA', 'V')\n",
      "('NT', 'WA')\n",
      "('NT', 'SA')\n",
      "('NT', 'Q')\n",
      "('Q', 'NT')\n",
      "('Q', 'SA')\n",
      "('Q', 'NSW')\n",
      "('NSW', 'Q')\n",
      "('NSW', 'SA')\n",
      "('NSW', 'V')\n",
      "('V', 'NSW')\n",
      "('V', 'SA')\n"
     ]
    }
   ],
   "source": [
    "for i in neighbors:\n",
    "    for arc in itertools.product([i], neighbors[i]):\n",
    "        print(arc)"
   ]
  },
  {
   "cell_type": "code",
   "execution_count": 35,
   "metadata": {},
   "outputs": [],
   "source": [
    "constraints = {arc: {binary_constraint for binary_constraint in itertools.product(domains[arc[0]], domains[arc[1]]) \n",
    "                     if binary_constraint[0] != binary_constraint[1]} for x in neighbors for arc in itertools.product([x], neighbors[x]) }\n"
   ]
  },
  {
   "cell_type": "code",
   "execution_count": 36,
   "metadata": {},
   "outputs": [
    {
     "data": {
      "text/plain": [
       "{('WA', 'NT'): {('b', 'g'),\n",
       "  ('b', 'r'),\n",
       "  ('g', 'b'),\n",
       "  ('g', 'r'),\n",
       "  ('r', 'b'),\n",
       "  ('r', 'g')},\n",
       " ('WA', 'SA'): {('b', 'g'),\n",
       "  ('b', 'r'),\n",
       "  ('g', 'b'),\n",
       "  ('g', 'r'),\n",
       "  ('r', 'b'),\n",
       "  ('r', 'g')},\n",
       " ('SA', 'WA'): {('b', 'g'),\n",
       "  ('b', 'r'),\n",
       "  ('g', 'b'),\n",
       "  ('g', 'r'),\n",
       "  ('r', 'b'),\n",
       "  ('r', 'g')},\n",
       " ('SA', 'NT'): {('b', 'g'),\n",
       "  ('b', 'r'),\n",
       "  ('g', 'b'),\n",
       "  ('g', 'r'),\n",
       "  ('r', 'b'),\n",
       "  ('r', 'g')},\n",
       " ('SA', 'Q'): {('b', 'g'),\n",
       "  ('b', 'r'),\n",
       "  ('g', 'b'),\n",
       "  ('g', 'r'),\n",
       "  ('r', 'b'),\n",
       "  ('r', 'g')},\n",
       " ('SA', 'NSW'): {('b', 'g'),\n",
       "  ('b', 'r'),\n",
       "  ('g', 'b'),\n",
       "  ('g', 'r'),\n",
       "  ('r', 'b'),\n",
       "  ('r', 'g')},\n",
       " ('SA', 'V'): {('b', 'g'),\n",
       "  ('b', 'r'),\n",
       "  ('g', 'b'),\n",
       "  ('g', 'r'),\n",
       "  ('r', 'b'),\n",
       "  ('r', 'g')},\n",
       " ('NT', 'WA'): {('b', 'g'),\n",
       "  ('b', 'r'),\n",
       "  ('g', 'b'),\n",
       "  ('g', 'r'),\n",
       "  ('r', 'b'),\n",
       "  ('r', 'g')},\n",
       " ('NT', 'SA'): {('b', 'g'),\n",
       "  ('b', 'r'),\n",
       "  ('g', 'b'),\n",
       "  ('g', 'r'),\n",
       "  ('r', 'b'),\n",
       "  ('r', 'g')},\n",
       " ('NT', 'Q'): {('b', 'g'),\n",
       "  ('b', 'r'),\n",
       "  ('g', 'b'),\n",
       "  ('g', 'r'),\n",
       "  ('r', 'b'),\n",
       "  ('r', 'g')},\n",
       " ('Q', 'NT'): {('b', 'g'),\n",
       "  ('b', 'r'),\n",
       "  ('g', 'b'),\n",
       "  ('g', 'r'),\n",
       "  ('r', 'b'),\n",
       "  ('r', 'g')},\n",
       " ('Q', 'SA'): {('b', 'g'),\n",
       "  ('b', 'r'),\n",
       "  ('g', 'b'),\n",
       "  ('g', 'r'),\n",
       "  ('r', 'b'),\n",
       "  ('r', 'g')},\n",
       " ('Q', 'NSW'): {('b', 'g'),\n",
       "  ('b', 'r'),\n",
       "  ('g', 'b'),\n",
       "  ('g', 'r'),\n",
       "  ('r', 'b'),\n",
       "  ('r', 'g')},\n",
       " ('NSW', 'Q'): {('b', 'g'),\n",
       "  ('b', 'r'),\n",
       "  ('g', 'b'),\n",
       "  ('g', 'r'),\n",
       "  ('r', 'b'),\n",
       "  ('r', 'g')},\n",
       " ('NSW', 'SA'): {('b', 'g'),\n",
       "  ('b', 'r'),\n",
       "  ('g', 'b'),\n",
       "  ('g', 'r'),\n",
       "  ('r', 'b'),\n",
       "  ('r', 'g')},\n",
       " ('NSW', 'V'): {('b', 'g'),\n",
       "  ('b', 'r'),\n",
       "  ('g', 'b'),\n",
       "  ('g', 'r'),\n",
       "  ('r', 'b'),\n",
       "  ('r', 'g')},\n",
       " ('V', 'NSW'): {('b', 'g'),\n",
       "  ('b', 'r'),\n",
       "  ('g', 'b'),\n",
       "  ('g', 'r'),\n",
       "  ('r', 'b'),\n",
       "  ('r', 'g')},\n",
       " ('V', 'SA'): {('b', 'g'),\n",
       "  ('b', 'r'),\n",
       "  ('g', 'b'),\n",
       "  ('g', 'r'),\n",
       "  ('r', 'b'),\n",
       "  ('r', 'g')}}"
      ]
     },
     "execution_count": 36,
     "metadata": {},
     "output_type": "execute_result"
    }
   ],
   "source": [
    "constraints"
   ]
  },
  {
   "cell_type": "code",
   "execution_count": 22,
   "metadata": {},
   "outputs": [],
   "source": [
    "neighbors = {var: [set(constraint) - {var} for constraint in constraints if var in set(constraint)] for var in variables}"
   ]
  },
  {
   "cell_type": "code",
   "execution_count": 23,
   "metadata": {},
   "outputs": [
    {
     "data": {
      "text/plain": [
       "{'WA': [{'NT'}, {'Q'}, {'NSW'}, {'V'}, {'SA'}, {'T'}],\n",
       " 'NT': [{'WA'}, {'Q'}, {'NSW'}, {'V'}, {'SA'}, {'T'}],\n",
       " 'Q': [{'WA'}, {'NT'}, {'NSW'}, {'V'}, {'SA'}, {'T'}],\n",
       " 'NSW': [{'WA'}, {'NT'}, {'Q'}, {'V'}, {'SA'}, {'T'}],\n",
       " 'V': [{'WA'}, {'NT'}, {'Q'}, {'NSW'}, {'SA'}, {'T'}],\n",
       " 'SA': [{'WA'}, {'NT'}, {'Q'}, {'NSW'}, {'V'}, {'T'}],\n",
       " 'T': [{'WA'}, {'NT'}, {'Q'}, {'NSW'}, {'V'}, {'SA'}]}"
      ]
     },
     "execution_count": 23,
     "metadata": {},
     "output_type": "execute_result"
    }
   ],
   "source": [
    "neighbors"
   ]
  },
  {
   "cell_type": "code",
   "execution_count": 20,
   "metadata": {},
   "outputs": [
    {
     "data": {
      "text/plain": [
       "{'b', 'g', 'r'}"
      ]
     },
     "execution_count": 20,
     "metadata": {},
     "output_type": "execute_result"
    }
   ],
   "source": [
    "set([domain for var in variables for domain in domains[var]])"
   ]
  },
  {
   "cell_type": "code",
   "execution_count": 21,
   "metadata": {},
   "outputs": [
    {
     "name": "stdout",
     "output_type": "stream",
     "text": [
      "1\n",
      "2\n",
      "3\n",
      "4\n"
     ]
    }
   ],
   "source": [
    "set1 = {(1,2), (3,4)}\n",
    "for i, j in set1:\n",
    "    print(i)\n",
    "    print(j)"
   ]
  },
  {
   "cell_type": "code",
   "execution_count": 16,
   "metadata": {},
   "outputs": [
    {
     "data": {
      "text/plain": [
       "{(3, 4)}"
      ]
     },
     "execution_count": 16,
     "metadata": {},
     "output_type": "execute_result"
    }
   ],
   "source": [
    "set1.difference({(1,2)})"
   ]
  },
  {
   "cell_type": "code",
   "execution_count": 37,
   "metadata": {},
   "outputs": [],
   "source": [
    "list1 = [(1,2), (0,3), (4,2), (2,3)]"
   ]
  },
  {
   "cell_type": "code",
   "execution_count": 40,
   "metadata": {},
   "outputs": [],
   "source": [
    "list1 = sorted(list1)"
   ]
  },
  {
   "cell_type": "code",
   "execution_count": 41,
   "metadata": {},
   "outputs": [
    {
     "data": {
      "text/plain": [
       "[(0, 3), (1, 2), (2, 3), (4, 2)]"
      ]
     },
     "execution_count": 41,
     "metadata": {},
     "output_type": "execute_result"
    }
   ],
   "source": [
    "list1"
   ]
  },
  {
   "cell_type": "code",
   "execution_count": 46,
   "metadata": {},
   "outputs": [],
   "source": [
    "class UniversalDict:\n",
    "    \"\"\"A universal dict maps any key to the same value. We use it here\n",
    "    as the domains dict for CSPs in which all vars have the same domain.\n",
    "    >>> d = UniversalDict(42)\n",
    "    >>> d['life']\n",
    "    42\n",
    "    \"\"\"\n",
    "    def __init__(self, value): self.value = value\n",
    "    def __getitem__(self, key): return self.value\n",
    "    def __repr__(self): return '{Any: %r}' % self.value"
   ]
  },
  {
   "cell_type": "code",
   "execution_count": 49,
   "metadata": {},
   "outputs": [],
   "source": [
    "neighbors = UniversalDict(range(8))"
   ]
  },
  {
   "cell_type": "code",
   "execution_count": 51,
   "metadata": {},
   "outputs": [
    {
     "data": {
      "text/plain": [
       "range(0, 8)"
      ]
     },
     "execution_count": 51,
     "metadata": {},
     "output_type": "execute_result"
    }
   ],
   "source": [
    "neighbors['chip']"
   ]
  },
  {
   "cell_type": "code",
   "execution_count": null,
   "metadata": {},
   "outputs": [],
   "source": []
  }
 ],
 "metadata": {
  "kernelspec": {
   "display_name": "Python 3.6",
   "language": "python",
   "name": "python3.6"
  },
  "language_info": {
   "codemirror_mode": {
    "name": "ipython",
    "version": 3
   },
   "file_extension": ".py",
   "mimetype": "text/x-python",
   "name": "python",
   "nbconvert_exporter": "python",
   "pygments_lexer": "ipython3",
   "version": "3.6.7"
  }
 },
 "nbformat": 4,
 "nbformat_minor": 2
}
